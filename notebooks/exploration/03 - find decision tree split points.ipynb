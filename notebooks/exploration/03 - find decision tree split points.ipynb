{
 "cells": [
  {
   "cell_type": "code",
   "execution_count": 1,
   "metadata": {},
   "outputs": [],
   "source": [
    "import numpy as np\n",
    "import pandas as pd"
   ]
  },
  {
   "cell_type": "code",
   "execution_count": 2,
   "metadata": {},
   "outputs": [],
   "source": [
    "datafile = \"../../data/processed/bc.csv\"\n",
    "df = pd.read_csv(datafile, index_col=\"Sample\")"
   ]
  },
  {
   "cell_type": "code",
   "execution_count": 3,
   "metadata": {},
   "outputs": [
    {
     "data": {
      "text/plain": [
       "Index(['Clump Thickness', 'Cell Size Uniformity', 'Cell Shape Uniformity',\n",
       "       'Marginal Adhesion', 'Single Epithelial Cell Size', 'Bare Nuclei',\n",
       "       'Bland Chromatin', 'Normal Nuclei', 'Mitoses', 'Class'],\n",
       "      dtype='object')"
      ]
     },
     "execution_count": 3,
     "metadata": {},
     "output_type": "execute_result"
    }
   ],
   "source": [
    "df.columns"
   ]
  },
  {
   "cell_type": "code",
   "execution_count": 4,
   "metadata": {},
   "outputs": [
    {
     "data": {
      "text/plain": [
       "Clump Thickness                int64\n",
       "Cell Size Uniformity           int64\n",
       "Cell Shape Uniformity          int64\n",
       "Marginal Adhesion              int64\n",
       "Single Epithelial Cell Size    int64\n",
       "Bare Nuclei                    int64\n",
       "Bland Chromatin                int64\n",
       "Normal Nuclei                  int64\n",
       "Mitoses                        int64\n",
       "Class                          int64\n",
       "dtype: object"
      ]
     },
     "execution_count": 4,
     "metadata": {},
     "output_type": "execute_result"
    }
   ],
   "source": [
    "df.dtypes"
   ]
  },
  {
   "cell_type": "code",
   "execution_count": 5,
   "metadata": {},
   "outputs": [],
   "source": [
    "y = df['Class']\n",
    "x = df[df.columns[:-1]]"
   ]
  },
  {
   "cell_type": "code",
   "execution_count": 6,
   "metadata": {},
   "outputs": [],
   "source": [
    "y = pd.get_dummies(y)"
   ]
  },
  {
   "cell_type": "code",
   "execution_count": 7,
   "metadata": {},
   "outputs": [],
   "source": [
    "def entropy(p_col):\n",
    "    \"\"\"Calculate the entropy of a column of labels\n",
    "    \n",
    "    The column should be a 2-class classification output, with\n",
    "    the label `1` if it is a member of the class or `0` if it\n",
    "    is not.\n",
    "    \n",
    "    Parameters\n",
    "    ----------\n",
    "    p_col : numpy.ndarray\n",
    "        Array of one-hot labels. Can optionally be a pandas.Series\n",
    "    \n",
    "    Returns\n",
    "    -------\n",
    "    float\n",
    "        Entropy of the array\n",
    "    \"\"\"\n",
    "    if p_col.shape[0] == 0:\n",
    "        p = 0.0\n",
    "    else:\n",
    "        p = np.sum(p_col) / p_col.shape[0]\n",
    "    if p == 0.0:\n",
    "        fp = 0.0\n",
    "    else:\n",
    "        fp = -p * np.log(p) / np.log(2)\n",
    "    if 1-p == 0.0:\n",
    "        sp = 0.0\n",
    "    else:\n",
    "        sp = (1 - p) * np.log(1 - p) / np.log(2)\n",
    "    return fp - sp"
   ]
  },
  {
   "cell_type": "code",
   "execution_count": 8,
   "metadata": {},
   "outputs": [],
   "source": [
    "assert entropy(y[2]) == entropy(y[4])"
   ]
  },
  {
   "cell_type": "code",
   "execution_count": 9,
   "metadata": {},
   "outputs": [],
   "source": [
    "def gini(p_col):\n",
    "    if p_col.shape[0] == 0:\n",
    "        p = 0.0\n",
    "    else:\n",
    "        p = np.sum(p_col) / p_col.shape[0]\n",
    "    return 2 * p * (1 - p)"
   ]
  },
  {
   "cell_type": "code",
   "execution_count": 10,
   "metadata": {},
   "outputs": [],
   "source": [
    "assert gini(y[2]) == gini(y[4])"
   ]
  },
  {
   "cell_type": "code",
   "execution_count": 11,
   "metadata": {},
   "outputs": [],
   "source": [
    "def misclassification(p_col):\n",
    "    if p_col.shape[0] == 0:\n",
    "        p = 0.0\n",
    "    else:\n",
    "        p = np.sum(p_col) / p_col.shape[0]\n",
    "    return 1 - np.max([p, 1-p])"
   ]
  },
  {
   "cell_type": "code",
   "execution_count": 12,
   "metadata": {},
   "outputs": [],
   "source": [
    "assert misclassification(y[2]) == misclassification(y[4])"
   ]
  },
  {
   "cell_type": "code",
   "execution_count": 13,
   "metadata": {},
   "outputs": [
    {
     "data": {
      "text/html": [
       "<div>\n",
       "<style scoped>\n",
       "    .dataframe tbody tr th:only-of-type {\n",
       "        vertical-align: middle;\n",
       "    }\n",
       "\n",
       "    .dataframe tbody tr th {\n",
       "        vertical-align: top;\n",
       "    }\n",
       "\n",
       "    .dataframe thead th {\n",
       "        text-align: right;\n",
       "    }\n",
       "</style>\n",
       "<table border=\"1\" class=\"dataframe\">\n",
       "  <thead>\n",
       "    <tr style=\"text-align: right;\">\n",
       "      <th></th>\n",
       "      <th>Clump Thickness</th>\n",
       "      <th>Cell Size Uniformity</th>\n",
       "      <th>Cell Shape Uniformity</th>\n",
       "      <th>Marginal Adhesion</th>\n",
       "      <th>Single Epithelial Cell Size</th>\n",
       "      <th>Bare Nuclei</th>\n",
       "      <th>Bland Chromatin</th>\n",
       "      <th>Normal Nuclei</th>\n",
       "      <th>Mitoses</th>\n",
       "      <th>Class</th>\n",
       "    </tr>\n",
       "    <tr>\n",
       "      <th>Sample</th>\n",
       "      <th></th>\n",
       "      <th></th>\n",
       "      <th></th>\n",
       "      <th></th>\n",
       "      <th></th>\n",
       "      <th></th>\n",
       "      <th></th>\n",
       "      <th></th>\n",
       "      <th></th>\n",
       "      <th></th>\n",
       "    </tr>\n",
       "  </thead>\n",
       "  <tbody>\n",
       "    <tr>\n",
       "      <th>1000025</th>\n",
       "      <td>5</td>\n",
       "      <td>1</td>\n",
       "      <td>1</td>\n",
       "      <td>1</td>\n",
       "      <td>2</td>\n",
       "      <td>1</td>\n",
       "      <td>3</td>\n",
       "      <td>1</td>\n",
       "      <td>1</td>\n",
       "      <td>2</td>\n",
       "    </tr>\n",
       "    <tr>\n",
       "      <th>1002945</th>\n",
       "      <td>5</td>\n",
       "      <td>4</td>\n",
       "      <td>4</td>\n",
       "      <td>5</td>\n",
       "      <td>7</td>\n",
       "      <td>10</td>\n",
       "      <td>3</td>\n",
       "      <td>2</td>\n",
       "      <td>1</td>\n",
       "      <td>2</td>\n",
       "    </tr>\n",
       "    <tr>\n",
       "      <th>1015425</th>\n",
       "      <td>3</td>\n",
       "      <td>1</td>\n",
       "      <td>1</td>\n",
       "      <td>1</td>\n",
       "      <td>2</td>\n",
       "      <td>2</td>\n",
       "      <td>3</td>\n",
       "      <td>1</td>\n",
       "      <td>1</td>\n",
       "      <td>2</td>\n",
       "    </tr>\n",
       "    <tr>\n",
       "      <th>1016277</th>\n",
       "      <td>6</td>\n",
       "      <td>8</td>\n",
       "      <td>8</td>\n",
       "      <td>1</td>\n",
       "      <td>3</td>\n",
       "      <td>4</td>\n",
       "      <td>3</td>\n",
       "      <td>7</td>\n",
       "      <td>1</td>\n",
       "      <td>2</td>\n",
       "    </tr>\n",
       "    <tr>\n",
       "      <th>1017023</th>\n",
       "      <td>4</td>\n",
       "      <td>1</td>\n",
       "      <td>1</td>\n",
       "      <td>3</td>\n",
       "      <td>2</td>\n",
       "      <td>1</td>\n",
       "      <td>3</td>\n",
       "      <td>1</td>\n",
       "      <td>1</td>\n",
       "      <td>2</td>\n",
       "    </tr>\n",
       "  </tbody>\n",
       "</table>\n",
       "</div>"
      ],
      "text/plain": [
       "         Clump Thickness  Cell Size Uniformity  Cell Shape Uniformity  \\\n",
       "Sample                                                                  \n",
       "1000025                5                     1                      1   \n",
       "1002945                5                     4                      4   \n",
       "1015425                3                     1                      1   \n",
       "1016277                6                     8                      8   \n",
       "1017023                4                     1                      1   \n",
       "\n",
       "         Marginal Adhesion  Single Epithelial Cell Size  Bare Nuclei  \\\n",
       "Sample                                                                 \n",
       "1000025                  1                            2            1   \n",
       "1002945                  5                            7           10   \n",
       "1015425                  1                            2            2   \n",
       "1016277                  1                            3            4   \n",
       "1017023                  3                            2            1   \n",
       "\n",
       "         Bland Chromatin  Normal Nuclei  Mitoses  Class  \n",
       "Sample                                                   \n",
       "1000025                3              1        1      2  \n",
       "1002945                3              2        1      2  \n",
       "1015425                3              1        1      2  \n",
       "1016277                3              7        1      2  \n",
       "1017023                3              1        1      2  "
      ]
     },
     "execution_count": 13,
     "metadata": {},
     "output_type": "execute_result"
    }
   ],
   "source": [
    "df.head()"
   ]
  },
  {
   "cell_type": "code",
   "execution_count": 14,
   "metadata": {},
   "outputs": [
    {
     "data": {
      "text/plain": [
       "(array([], dtype=int64),)"
      ]
     },
     "execution_count": 14,
     "metadata": {},
     "output_type": "execute_result"
    }
   ],
   "source": [
    "np.where(x['Bare Nuclei'] % 1 != 0.0)"
   ]
  },
  {
   "cell_type": "code",
   "execution_count": 15,
   "metadata": {},
   "outputs": [
    {
     "data": {
      "text/plain": [
       "array([ 5,  3,  6,  4,  8,  1,  2,  7, 10,  9])"
      ]
     },
     "execution_count": 15,
     "metadata": {},
     "output_type": "execute_result"
    }
   ],
   "source": [
    "x['Clump Thickness'].unique()"
   ]
  },
  {
   "cell_type": "code",
   "execution_count": 16,
   "metadata": {},
   "outputs": [],
   "source": [
    "def split_attribute(x, y, impurity=entropy):\n",
    "    min_entropy = np.finfo(np.float64).max # 1e308 on test system\n",
    "    columns = x.columns\n",
    "    xt = x.copy()\n",
    "    xt['Labels'] = y\n",
    "    split_column = None\n",
    "    split_value = None\n",
    "    for c in x.columns:\n",
    "        for v in x[c].unique():\n",
    "            left_split = xt[xt[c] <= v]\n",
    "            right_split = xt[xt[c] > v]\n",
    "            left_impurity = impurity(left_split['Labels'])\n",
    "            right_impurity = impurity(right_split['Labels'])\n",
    "            e = left_impurity + right_impurity\n",
    "            if e < min_entropy:\n",
    "                min_entropy = e\n",
    "                split_column = c\n",
    "                split_value = v\n",
    "    return split_column, split_value"
   ]
  },
  {
   "cell_type": "code",
   "execution_count": 17,
   "metadata": {},
   "outputs": [
    {
     "data": {
      "text/plain": [
       "('Cell Size Uniformity', 3)"
      ]
     },
     "execution_count": 17,
     "metadata": {},
     "output_type": "execute_result"
    }
   ],
   "source": [
    "split_attribute(x, y[2], impurity=misclassification)"
   ]
  },
  {
   "cell_type": "code",
   "execution_count": 18,
   "metadata": {},
   "outputs": [
    {
     "data": {
      "text/plain": [
       "('Cell Size Uniformity', 3)"
      ]
     },
     "execution_count": 18,
     "metadata": {},
     "output_type": "execute_result"
    }
   ],
   "source": [
    "split_attribute(x, y[2], impurity=gini)"
   ]
  },
  {
   "cell_type": "code",
   "execution_count": 19,
   "metadata": {},
   "outputs": [
    {
     "data": {
      "text/plain": [
       "('Cell Size Uniformity', 4)"
      ]
     },
     "execution_count": 19,
     "metadata": {},
     "output_type": "execute_result"
    }
   ],
   "source": [
    "split_attribute(x, y[2], impurity=entropy)"
   ]
  },
  {
   "cell_type": "code",
   "execution_count": null,
   "metadata": {},
   "outputs": [],
   "source": []
  }
 ],
 "metadata": {
  "kernelspec": {
   "display_name": "Python [conda env:cs528p3]",
   "language": "python",
   "name": "conda-env-cs528p3-py"
  },
  "language_info": {
   "codemirror_mode": {
    "name": "ipython",
    "version": 3
   },
   "file_extension": ".py",
   "mimetype": "text/x-python",
   "name": "python",
   "nbconvert_exporter": "python",
   "pygments_lexer": "ipython3",
   "version": "3.7.1"
  }
 },
 "nbformat": 4,
 "nbformat_minor": 2
}
