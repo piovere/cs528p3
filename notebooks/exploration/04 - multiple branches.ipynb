{
 "cells": [
  {
   "cell_type": "code",
   "execution_count": 12,
   "metadata": {},
   "outputs": [],
   "source": [
    "import numpy as np\n",
    "import pandas as pd\n",
    "from scipy.stats import mode"
   ]
  },
  {
   "cell_type": "code",
   "execution_count": 13,
   "metadata": {},
   "outputs": [],
   "source": [
    "datafile = \"../../data/processed/bc.csv\"\n",
    "df = pd.read_csv(datafile, index_col='Sample')\n",
    "cols = df.columns\n",
    "x = df[cols[:-1]]\n",
    "y = pd.get_dummies(df[cols[-1]])[2]"
   ]
  },
  {
   "cell_type": "code",
   "execution_count": 14,
   "metadata": {},
   "outputs": [
    {
     "data": {
      "text/html": [
       "<div>\n",
       "<style scoped>\n",
       "    .dataframe tbody tr th:only-of-type {\n",
       "        vertical-align: middle;\n",
       "    }\n",
       "\n",
       "    .dataframe tbody tr th {\n",
       "        vertical-align: top;\n",
       "    }\n",
       "\n",
       "    .dataframe thead th {\n",
       "        text-align: right;\n",
       "    }\n",
       "</style>\n",
       "<table border=\"1\" class=\"dataframe\">\n",
       "  <thead>\n",
       "    <tr style=\"text-align: right;\">\n",
       "      <th></th>\n",
       "      <th>Clump Thickness</th>\n",
       "      <th>Cell Size Uniformity</th>\n",
       "      <th>Cell Shape Uniformity</th>\n",
       "      <th>Marginal Adhesion</th>\n",
       "      <th>Single Epithelial Cell Size</th>\n",
       "      <th>Bare Nuclei</th>\n",
       "      <th>Bland Chromatin</th>\n",
       "      <th>Normal Nuclei</th>\n",
       "      <th>Mitoses</th>\n",
       "    </tr>\n",
       "    <tr>\n",
       "      <th>Sample</th>\n",
       "      <th></th>\n",
       "      <th></th>\n",
       "      <th></th>\n",
       "      <th></th>\n",
       "      <th></th>\n",
       "      <th></th>\n",
       "      <th></th>\n",
       "      <th></th>\n",
       "      <th></th>\n",
       "    </tr>\n",
       "  </thead>\n",
       "  <tbody>\n",
       "    <tr>\n",
       "      <th>1000025</th>\n",
       "      <td>5</td>\n",
       "      <td>1</td>\n",
       "      <td>1</td>\n",
       "      <td>1</td>\n",
       "      <td>2</td>\n",
       "      <td>1</td>\n",
       "      <td>3</td>\n",
       "      <td>1</td>\n",
       "      <td>1</td>\n",
       "    </tr>\n",
       "    <tr>\n",
       "      <th>1002945</th>\n",
       "      <td>5</td>\n",
       "      <td>4</td>\n",
       "      <td>4</td>\n",
       "      <td>5</td>\n",
       "      <td>7</td>\n",
       "      <td>10</td>\n",
       "      <td>3</td>\n",
       "      <td>2</td>\n",
       "      <td>1</td>\n",
       "    </tr>\n",
       "    <tr>\n",
       "      <th>1015425</th>\n",
       "      <td>3</td>\n",
       "      <td>1</td>\n",
       "      <td>1</td>\n",
       "      <td>1</td>\n",
       "      <td>2</td>\n",
       "      <td>2</td>\n",
       "      <td>3</td>\n",
       "      <td>1</td>\n",
       "      <td>1</td>\n",
       "    </tr>\n",
       "    <tr>\n",
       "      <th>1016277</th>\n",
       "      <td>6</td>\n",
       "      <td>8</td>\n",
       "      <td>8</td>\n",
       "      <td>1</td>\n",
       "      <td>3</td>\n",
       "      <td>4</td>\n",
       "      <td>3</td>\n",
       "      <td>7</td>\n",
       "      <td>1</td>\n",
       "    </tr>\n",
       "    <tr>\n",
       "      <th>1017023</th>\n",
       "      <td>4</td>\n",
       "      <td>1</td>\n",
       "      <td>1</td>\n",
       "      <td>3</td>\n",
       "      <td>2</td>\n",
       "      <td>1</td>\n",
       "      <td>3</td>\n",
       "      <td>1</td>\n",
       "      <td>1</td>\n",
       "    </tr>\n",
       "  </tbody>\n",
       "</table>\n",
       "</div>"
      ],
      "text/plain": [
       "         Clump Thickness  Cell Size Uniformity  Cell Shape Uniformity  \\\n",
       "Sample                                                                  \n",
       "1000025                5                     1                      1   \n",
       "1002945                5                     4                      4   \n",
       "1015425                3                     1                      1   \n",
       "1016277                6                     8                      8   \n",
       "1017023                4                     1                      1   \n",
       "\n",
       "         Marginal Adhesion  Single Epithelial Cell Size  Bare Nuclei  \\\n",
       "Sample                                                                 \n",
       "1000025                  1                            2            1   \n",
       "1002945                  5                            7           10   \n",
       "1015425                  1                            2            2   \n",
       "1016277                  1                            3            4   \n",
       "1017023                  3                            2            1   \n",
       "\n",
       "         Bland Chromatin  Normal Nuclei  Mitoses  \n",
       "Sample                                            \n",
       "1000025                3              1        1  \n",
       "1002945                3              2        1  \n",
       "1015425                3              1        1  \n",
       "1016277                3              7        1  \n",
       "1017023                3              1        1  "
      ]
     },
     "execution_count": 14,
     "metadata": {},
     "output_type": "execute_result"
    }
   ],
   "source": [
    "x.head()"
   ]
  },
  {
   "cell_type": "code",
   "execution_count": 15,
   "metadata": {},
   "outputs": [
    {
     "data": {
      "text/plain": [
       "Sample\n",
       "1000025    1\n",
       "1002945    1\n",
       "1015425    1\n",
       "1016277    1\n",
       "1017023    1\n",
       "Name: 2, dtype: uint8"
      ]
     },
     "execution_count": 15,
     "metadata": {},
     "output_type": "execute_result"
    }
   ],
   "source": [
    "y.head()"
   ]
  },
  {
   "cell_type": "code",
   "execution_count": 16,
   "metadata": {},
   "outputs": [
    {
     "data": {
      "text/plain": [
       "1    444\n",
       "0    239\n",
       "Name: 2, dtype: int64"
      ]
     },
     "execution_count": 16,
     "metadata": {},
     "output_type": "execute_result"
    }
   ],
   "source": [
    "y.value_counts()"
   ]
  },
  {
   "cell_type": "code",
   "execution_count": 17,
   "metadata": {},
   "outputs": [
    {
     "name": "stdout",
     "output_type": "stream",
     "text": [
      "1     139\n",
      "5     128\n",
      "3     104\n",
      "4      79\n",
      "10     69\n",
      "2      50\n",
      "8      44\n",
      "6      33\n",
      "7      23\n",
      "9      14\n",
      "Name: Clump Thickness, dtype: int64\n",
      "1     373\n",
      "10     67\n",
      "3      52\n",
      "2      45\n",
      "4      38\n",
      "5      30\n",
      "8      28\n",
      "6      25\n",
      "7      19\n",
      "9       6\n",
      "Name: Cell Size Uniformity, dtype: int64\n",
      "1     346\n",
      "10     58\n",
      "2      58\n",
      "3      53\n",
      "4      43\n",
      "5      32\n",
      "7      30\n",
      "6      29\n",
      "8      27\n",
      "9       7\n",
      "Name: Cell Shape Uniformity, dtype: int64\n",
      "1     393\n",
      "3      58\n",
      "2      58\n",
      "10     55\n",
      "4      33\n",
      "8      25\n",
      "5      23\n",
      "6      21\n",
      "7      13\n",
      "9       4\n",
      "Name: Marginal Adhesion, dtype: int64\n",
      "2     376\n",
      "3      71\n",
      "4      48\n",
      "1      44\n",
      "6      40\n",
      "5      39\n",
      "10     31\n",
      "8      21\n",
      "7      11\n",
      "9       2\n",
      "Name: Single Epithelial Cell Size, dtype: int64\n",
      "1     402\n",
      "10    132\n",
      "5      30\n",
      "2      30\n",
      "3      28\n",
      "8      21\n",
      "4      19\n",
      "9       9\n",
      "7       8\n",
      "6       4\n",
      "Name: Bare Nuclei, dtype: int64\n",
      "3     161\n",
      "2     160\n",
      "1     150\n",
      "7      71\n",
      "4      39\n",
      "5      34\n",
      "8      28\n",
      "10     20\n",
      "9      11\n",
      "6       9\n",
      "Name: Bland Chromatin, dtype: int64\n",
      "1     432\n",
      "10     60\n",
      "3      42\n",
      "2      36\n",
      "8      23\n",
      "6      22\n",
      "5      19\n",
      "4      18\n",
      "7      16\n",
      "9      15\n",
      "Name: Normal Nuclei, dtype: int64\n",
      "1     563\n",
      "2      35\n",
      "3      33\n",
      "10     14\n",
      "4      12\n",
      "7       9\n",
      "8       8\n",
      "5       6\n",
      "6       3\n",
      "Name: Mitoses, dtype: int64\n"
     ]
    }
   ],
   "source": [
    "cc = [x[c].value_counts() for c in x.columns]\n",
    "for _ in cc:\n",
    "    print(_)"
   ]
  },
  {
   "cell_type": "code",
   "execution_count": 18,
   "metadata": {},
   "outputs": [],
   "source": [
    "def entropy(p_col):\n",
    "    \"\"\"Calculate the entropy of a column of labels\n",
    "    \n",
    "    The column should be a 2-class classification output, with\n",
    "    the label `1` if it is a member of the class or `0` if it\n",
    "    is not.\n",
    "    \n",
    "    Parameters\n",
    "    ----------\n",
    "    p_col : numpy.ndarray\n",
    "        Array of one-hot labels. Can optionally be a pandas.Series\n",
    "    \n",
    "    Returns\n",
    "    -------\n",
    "    float\n",
    "        Entropy of the array\n",
    "    \"\"\"\n",
    "    if p_col.shape[0] == 0:\n",
    "        p = 0.0\n",
    "    else:\n",
    "        p = np.sum(p_col) / p_col.shape[0]\n",
    "    if p == 0.0:\n",
    "        fp = 0.0\n",
    "    else:\n",
    "        fp = -p * np.log(p) / np.log(2)\n",
    "    if 1-p == 0.0:\n",
    "        sp = 0.0\n",
    "    else:\n",
    "        sp = (1 - p) * np.log(1 - p) / np.log(2)\n",
    "    return fp - sp"
   ]
  },
  {
   "cell_type": "code",
   "execution_count": 19,
   "metadata": {},
   "outputs": [],
   "source": [
    "def split_attribute(x, y, impurity=entropy):\n",
    "    min_entropy = np.finfo(np.float64).max # 1e308 on test system\n",
    "    columns = x.columns\n",
    "    xt = x.copy()\n",
    "    xt['Labels'] = y\n",
    "    split_column = None\n",
    "    split_value = None\n",
    "    for c in x.columns:\n",
    "        for v in x[c].unique():\n",
    "            left_split = xt[xt[c] <= v]\n",
    "            right_split = xt[xt[c] > v]\n",
    "            left_impurity = impurity(left_split['Labels'])\n",
    "            right_impurity = impurity(right_split['Labels'])\n",
    "            e = left_impurity + right_impurity\n",
    "            if e < min_entropy:\n",
    "                min_entropy = e\n",
    "                split_column = c\n",
    "                split_value = v\n",
    "    return split_column, split_value"
   ]
  },
  {
   "cell_type": "code",
   "execution_count": 20,
   "metadata": {},
   "outputs": [],
   "source": [
    "max_leaves = 10\n",
    "min_impurity = 0.10"
   ]
  },
  {
   "cell_type": "code",
   "execution_count": 132,
   "metadata": {},
   "outputs": [],
   "source": [
    "class Node():\n",
    "    def __init__(self, impurity=entropy, min_impurity=0.1, depth=0, max_depth=4):\n",
    "        self.impurity = impurity\n",
    "        self.attribute_ = None\n",
    "        self.value_ = None\n",
    "        self.min_impurity = min_impurity\n",
    "        self.depth = depth\n",
    "        self.max_depth = max_depth\n",
    "        self.left_ = None\n",
    "        self.right_ = None\n",
    "        self.is_leaf_ = False\n",
    "        self.label_ = None\n",
    "        self.confidence_ = None\n",
    "        self.training_impurity_ = None\n",
    "    \n",
    "    def fit(self, data):\n",
    "        column_names = data.columns\n",
    "        x = data[column_names[:-1]]\n",
    "        y = data[column_names[-1]]\n",
    "        # Calculate impurity\n",
    "        impurity = self.impurity(y)\n",
    "        self.training_impurity_ = impurity\n",
    "        # Decide if I should split\n",
    "        if impurity > self.min_impurity and self.depth < self.max_depth:\n",
    "            # Calculate the split\n",
    "            self.attribute_, self.value_ = split_attribute(x, y, impurity=self.impurity)\n",
    "            self.left_ = Node(impurity=self.impurity, min_impurity=self.min_impurity,\n",
    "                              depth=self.depth+1, max_depth=self.max_depth)\n",
    "            self.right_ = Node(impurity=self.impurity, min_impurity=self.min_impurity,\n",
    "                               depth=self.depth+1, max_depth=self.max_depth)\n",
    "            left_data = data[data[self.attribute_] <= self.value_]\n",
    "            right_data = data[data[self.attribute_] > self.value_]\n",
    "            self.left_.fit(left_data)\n",
    "            self.right_.fit(right_data)\n",
    "        else:\n",
    "            self.is_leaf_ = True\n",
    "            self.label_ = mode(y)\n",
    "            self.confidence_ = self.impurity(y)\n",
    "    \n",
    "    def predict(self, x):\n",
    "        if self.is_leaf_:\n",
    "            return self.label_.mode\n",
    "        else:\n",
    "            # Determine left or right\n",
    "            if x[self.attribute_] <= self.value_:\n",
    "                a = self.left_.predict(x)\n",
    "                return a\n",
    "            else:\n",
    "                a = self.right_.predict(x)\n",
    "                return a\n",
    "    \n",
    "    def print_node(self):\n",
    "        if self.is_leaf_:\n",
    "            return self.__repr__()\n",
    "        else:\n",
    "            return {self.__repr__():\n",
    "                       [\n",
    "                           self.left_.print_node(),\n",
    "                           self.right_.print_node()\n",
    "                       ]\n",
    "                   }\n",
    "    \n",
    "    def html_print(self):\n",
    "        s = \"<table border=1 style=\\\"text-align:center\\\"><tr style=\\\"text-align:center\\\">\"\n",
    "        if self.is_leaf_:\n",
    "            s += \"<td style=\\\"text-align:center\\\" bgcolor=\\\"green\\\">\"\n",
    "            s += self.__repr__()\n",
    "            s += \"</td>\"\n",
    "        else:\n",
    "            s += \"<td colspan=2 style=\\\"text-align:center\\\">\"\n",
    "            s += self.__repr__()\n",
    "            s += \"</td>\"\n",
    "            s += \"</tr><tr>\"\n",
    "            s += \"<td style=\\\"text-align:center\\\" width=50%>\"\n",
    "            s += self.left_.html_print()\n",
    "            s += \"</td><td style=\\\"text-align:center\\\" width=50%>\"\n",
    "            s += self.right_.html_print()\n",
    "            s += \"</td>\"\n",
    "        s += \"</tr></table>\"\n",
    "        return s\n",
    "    \n",
    "    def __repr__(self):\n",
    "        if self.is_leaf_:\n",
    "            return f\"Leaf with impurity {self.training_impurity_:0.2f}\"\n",
    "        else:\n",
    "            return f\"Node with impurity {self.training_impurity_:0.2f}, \"\\\n",
    "                   f\"split on \\\"{self.attribute_}\\\" with value {self.value_}\"\n"
   ]
  },
  {
   "cell_type": "code",
   "execution_count": 133,
   "metadata": {},
   "outputs": [],
   "source": [
    "n = Node()"
   ]
  },
  {
   "cell_type": "code",
   "execution_count": 134,
   "metadata": {},
   "outputs": [],
   "source": [
    "xt = x.copy()\n",
    "xt['Label'] = y\n",
    "n.fit(xt)"
   ]
  },
  {
   "cell_type": "code",
   "execution_count": 135,
   "metadata": {},
   "outputs": [
    {
     "data": {
      "text/plain": [
       "Node with impurity 0.93, split on \"Cell Size Uniformity\" with value 4"
      ]
     },
     "execution_count": 135,
     "metadata": {},
     "output_type": "execute_result"
    }
   ],
   "source": [
    "n"
   ]
  },
  {
   "cell_type": "code",
   "execution_count": 136,
   "metadata": {},
   "outputs": [
    {
     "name": "stdout",
     "output_type": "stream",
     "text": [
      "Node with impurity 0.93, split on \"Cell Size Uniformity\" with value 4\n",
      "Node with impurity 0.13, split on \"Clump Thickness\" with value 10\n",
      "Leaf with impurity 0.00\n"
     ]
    }
   ],
   "source": [
    "_ = n\n",
    "while True:\n",
    "    if _ is not None:\n",
    "        print(_)\n",
    "        _ = _.right_\n",
    "    else:\n",
    "        break"
   ]
  },
  {
   "cell_type": "code",
   "execution_count": 137,
   "metadata": {},
   "outputs": [
    {
     "name": "stdout",
     "output_type": "stream",
     "text": [
      "Node with impurity 0.93, split on \"Cell Size Uniformity\" with value 4\n",
      "Node with impurity 0.56, split on \"Clump Thickness\" with value 8\n",
      "Node with impurity 0.44, split on \"Normal Nuclei\" with value 8\n",
      "Node with impurity 0.37, split on \"Cell Shape Uniformity\" with value 6\n",
      "Leaf with impurity 0.36\n"
     ]
    }
   ],
   "source": [
    "_ = n\n",
    "while True:\n",
    "    if _ is not None:\n",
    "        print(_)\n",
    "        _ = _.left_\n",
    "    else:\n",
    "        break"
   ]
  },
  {
   "cell_type": "code",
   "execution_count": 138,
   "metadata": {},
   "outputs": [
    {
     "data": {
      "text/plain": [
       "'<table border=1 style=\"text-align:center\"><tr style=\"text-align:center\"><td colspan=2 style=\"text-align:center\">Node with impurity 0.93, split on \"Cell Size Uniformity\" with value 4</td></tr><tr><td style=\"text-align:center\" width=50%><table border=1 style=\"text-align:center\"><tr style=\"text-align:center\"><td colspan=2 style=\"text-align:center\">Node with impurity 0.56, split on \"Clump Thickness\" with value 8</td></tr><tr><td style=\"text-align:center\" width=50%><table border=1 style=\"text-align:center\"><tr style=\"text-align:center\"><td colspan=2 style=\"text-align:center\">Node with impurity 0.44, split on \"Normal Nuclei\" with value 8</td></tr><tr><td style=\"text-align:center\" width=50%><table border=1 style=\"text-align:center\"><tr style=\"text-align:center\"><td colspan=2 style=\"text-align:center\">Node with impurity 0.37, split on \"Cell Shape Uniformity\" with value 6</td></tr><tr><td style=\"text-align:center\" width=50%><table border=1 style=\"text-align:center\"><tr style=\"text-align:center\"><td style=\"text-align:center\" bgcolor=\"green\">Leaf with impurity 0.36</td></tr></table></td><td style=\"text-align:center\" width=50%><table border=1 style=\"text-align:center\"><tr style=\"text-align:center\"><td style=\"text-align:center\" bgcolor=\"green\">Leaf with impurity 0.00</td></tr></table></td></tr></table></td><td style=\"text-align:center\" width=50%><table border=1 style=\"text-align:center\"><tr style=\"text-align:center\"><td style=\"text-align:center\" bgcolor=\"green\">Leaf with impurity 0.00</td></tr></table></td></tr></table></td><td style=\"text-align:center\" width=50%><table border=1 style=\"text-align:center\"><tr style=\"text-align:center\"><td style=\"text-align:center\" bgcolor=\"green\">Leaf with impurity 0.00</td></tr></table></td></tr></table></td><td style=\"text-align:center\" width=50%><table border=1 style=\"text-align:center\"><tr style=\"text-align:center\"><td colspan=2 style=\"text-align:center\">Node with impurity 0.13, split on \"Clump Thickness\" with value 10</td></tr><tr><td style=\"text-align:center\" width=50%><table border=1 style=\"text-align:center\"><tr style=\"text-align:center\"><td colspan=2 style=\"text-align:center\">Node with impurity 0.13, split on \"Clump Thickness\" with value 10</td></tr><tr><td style=\"text-align:center\" width=50%><table border=1 style=\"text-align:center\"><tr style=\"text-align:center\"><td colspan=2 style=\"text-align:center\">Node with impurity 0.13, split on \"Clump Thickness\" with value 10</td></tr><tr><td style=\"text-align:center\" width=50%><table border=1 style=\"text-align:center\"><tr style=\"text-align:center\"><td style=\"text-align:center\" bgcolor=\"green\">Leaf with impurity 0.13</td></tr></table></td><td style=\"text-align:center\" width=50%><table border=1 style=\"text-align:center\"><tr style=\"text-align:center\"><td style=\"text-align:center\" bgcolor=\"green\">Leaf with impurity 0.00</td></tr></table></td></tr></table></td><td style=\"text-align:center\" width=50%><table border=1 style=\"text-align:center\"><tr style=\"text-align:center\"><td style=\"text-align:center\" bgcolor=\"green\">Leaf with impurity 0.00</td></tr></table></td></tr></table></td><td style=\"text-align:center\" width=50%><table border=1 style=\"text-align:center\"><tr style=\"text-align:center\"><td style=\"text-align:center\" bgcolor=\"green\">Leaf with impurity 0.00</td></tr></table></td></tr></table></td></tr></table>'"
      ]
     },
     "execution_count": 138,
     "metadata": {},
     "output_type": "execute_result"
    }
   ],
   "source": [
    "n.html_print()"
   ]
  },
  {
   "cell_type": "code",
   "execution_count": 139,
   "metadata": {},
   "outputs": [
    {
     "data": {
      "text/plain": [
       "array([1], dtype=uint8)"
      ]
     },
     "execution_count": 139,
     "metadata": {},
     "output_type": "execute_result"
    }
   ],
   "source": [
    "n.predict(x=df.iloc[1])"
   ]
  },
  {
   "cell_type": "code",
   "execution_count": 140,
   "metadata": {},
   "outputs": [
    {
     "data": {
      "text/plain": [
       "Clump Thickness                 5\n",
       "Cell Size Uniformity            4\n",
       "Cell Shape Uniformity           4\n",
       "Marginal Adhesion               5\n",
       "Single Epithelial Cell Size     7\n",
       "Bare Nuclei                    10\n",
       "Bland Chromatin                 3\n",
       "Normal Nuclei                   2\n",
       "Mitoses                         1\n",
       "Class                           2\n",
       "Name: 1002945, dtype: int64"
      ]
     },
     "execution_count": 140,
     "metadata": {},
     "output_type": "execute_result"
    }
   ],
   "source": [
    "df.iloc[1]"
   ]
  },
  {
   "cell_type": "code",
   "execution_count": 141,
   "metadata": {},
   "outputs": [],
   "source": [
    "a = n.predict(x=df.iloc[1])"
   ]
  },
  {
   "cell_type": "code",
   "execution_count": 142,
   "metadata": {},
   "outputs": [
    {
     "data": {
      "text/plain": [
       "array([1], dtype=uint8)"
      ]
     },
     "execution_count": 142,
     "metadata": {},
     "output_type": "execute_result"
    }
   ],
   "source": [
    "a"
   ]
  },
  {
   "cell_type": "code",
   "execution_count": 144,
   "metadata": {},
   "outputs": [
    {
     "data": {
      "text/plain": [
       "1"
      ]
     },
     "execution_count": 144,
     "metadata": {},
     "output_type": "execute_result"
    }
   ],
   "source": [
    "y.iloc[1]"
   ]
  },
  {
   "cell_type": "code",
   "execution_count": null,
   "metadata": {},
   "outputs": [],
   "source": []
  }
 ],
 "metadata": {
  "kernelspec": {
   "display_name": "Python 3",
   "language": "python",
   "name": "python3"
  },
  "language_info": {
   "codemirror_mode": {
    "name": "ipython",
    "version": 3
   },
   "file_extension": ".py",
   "mimetype": "text/x-python",
   "name": "python",
   "nbconvert_exporter": "python",
   "pygments_lexer": "ipython3",
   "version": "3.7.0"
  }
 },
 "nbformat": 4,
 "nbformat_minor": 2
}
